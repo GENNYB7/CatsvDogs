{
  "nbformat": 4,
  "nbformat_minor": 0,
  "metadata": {
    "colab": {
      "name": "Copy of Cat&DogOwners.ipynb",
      "provenance": [],
      "collapsed_sections": [],
      "authorship_tag": "ABX9TyPJwmBsnNogfWckMJe3axA/",
      "include_colab_link": true
    },
    "kernelspec": {
      "name": "python3",
      "display_name": "Python 3"
    },
    "language_info": {
      "name": "python"
    }
  },
  "cells": [
    {
      "cell_type": "markdown",
      "metadata": {
        "id": "view-in-github",
        "colab_type": "text"
      },
      "source": [
        "<a href=\"https://colab.research.google.com/github/GENNYB7/CatsvDogs/blob/main/Copy_of_Cat%26DogOwners.ipynb\" target=\"_parent\"><img src=\"https://colab.research.google.com/assets/colab-badge.svg\" alt=\"Open In Colab\"/></a>"
      ]
    },
    {
      "cell_type": "code",
      "metadata": {
        "id": "iGjZkv0qY5OF",
        "colab": {
          "base_uri": "https://localhost:8080/"
        },
        "outputId": "842d774a-a7a4-4ef4-b68f-d231bbac46a4"
      },
      "source": [
        "from google.colab import drive\n",
        "drive.mount('/content/drive')"
      ],
      "execution_count": null,
      "outputs": [
        {
          "output_type": "stream",
          "text": [
            "Mounted at /content/drive\n"
          ],
          "name": "stdout"
        }
      ]
    },
    {
      "cell_type": "code",
      "metadata": {
        "id": "RsYP_b1e-ui6"
      },
      "source": [
        "import matplotlib.pyplot as plt\n",
        "import seaborn as sns\n",
        "import pandas as pd\n",
        "import numpy as np"
      ],
      "execution_count": null,
      "outputs": []
    },
    {
      "cell_type": "code",
      "metadata": {
        "id": "wUgjL1fN--nB",
        "colab": {
          "base_uri": "https://localhost:8080/",
          "height": 229
        },
        "outputId": "6cce1f95-0cbd-4bea-cbcb-a31edf7e6c97"
      },
      "source": [
        "catsvdogs = pd.read_excel('/content/drive/MyDrive/Coding_Dojo/PandasForDataManipulation/catsvdogs.xlsx')\n",
        "catsvdogs.head()"
      ],
      "execution_count": null,
      "outputs": [
        {
          "output_type": "execute_result",
          "data": {
            "text/html": [
              "<div>\n",
              "<style scoped>\n",
              "    .dataframe tbody tr th:only-of-type {\n",
              "        vertical-align: middle;\n",
              "    }\n",
              "\n",
              "    .dataframe tbody tr th {\n",
              "        vertical-align: top;\n",
              "    }\n",
              "\n",
              "    .dataframe thead th {\n",
              "        text-align: right;\n",
              "    }\n",
              "</style>\n",
              "<table border=\"1\" class=\"dataframe\">\n",
              "  <thead>\n",
              "    <tr style=\"text-align: right;\">\n",
              "      <th></th>\n",
              "      <th>Location</th>\n",
              "      <th>Number of Households (in 1000)</th>\n",
              "      <th>Percentage of households with pets</th>\n",
              "      <th>Number of Pet Households (in 1000)</th>\n",
              "      <th>Percentage of Dog Owners</th>\n",
              "      <th>Dog Owning Households (1000s)</th>\n",
              "      <th>Mean Number of Dogs per household</th>\n",
              "      <th>Dog Population (in 1000)</th>\n",
              "      <th>Percentage of Cat Owners</th>\n",
              "      <th>Cat Owning Households</th>\n",
              "      <th>Mean Number of Cats</th>\n",
              "      <th>Cat Population</th>\n",
              "    </tr>\n",
              "  </thead>\n",
              "  <tbody>\n",
              "    <tr>\n",
              "      <th>0</th>\n",
              "      <td>Alabama</td>\n",
              "      <td>1828</td>\n",
              "      <td>59.5</td>\n",
              "      <td>1088</td>\n",
              "      <td>44.1</td>\n",
              "      <td>807</td>\n",
              "      <td>1.7</td>\n",
              "      <td>1410</td>\n",
              "      <td>27.4</td>\n",
              "      <td>501</td>\n",
              "      <td>2.5</td>\n",
              "      <td>1252</td>\n",
              "    </tr>\n",
              "    <tr>\n",
              "      <th>1</th>\n",
              "      <td>Arizona</td>\n",
              "      <td>2515</td>\n",
              "      <td>59.5</td>\n",
              "      <td>1497</td>\n",
              "      <td>40.1</td>\n",
              "      <td>1008</td>\n",
              "      <td>1.8</td>\n",
              "      <td>1798</td>\n",
              "      <td>29.6</td>\n",
              "      <td>743</td>\n",
              "      <td>1.9</td>\n",
              "      <td>1438</td>\n",
              "    </tr>\n",
              "    <tr>\n",
              "      <th>2</th>\n",
              "      <td>Arkansas</td>\n",
              "      <td>1148</td>\n",
              "      <td>62.4</td>\n",
              "      <td>716</td>\n",
              "      <td>47.9</td>\n",
              "      <td>550</td>\n",
              "      <td>2.0</td>\n",
              "      <td>1097</td>\n",
              "      <td>30.6</td>\n",
              "      <td>351</td>\n",
              "      <td>2.3</td>\n",
              "      <td>810</td>\n",
              "    </tr>\n",
              "    <tr>\n",
              "      <th>3</th>\n",
              "      <td>California</td>\n",
              "      <td>12974</td>\n",
              "      <td>52.9</td>\n",
              "      <td>6865</td>\n",
              "      <td>32.8</td>\n",
              "      <td>4260</td>\n",
              "      <td>1.6</td>\n",
              "      <td>6687</td>\n",
              "      <td>28.3</td>\n",
              "      <td>3687</td>\n",
              "      <td>1.9</td>\n",
              "      <td>7118</td>\n",
              "    </tr>\n",
              "    <tr>\n",
              "      <th>4</th>\n",
              "      <td>Colorado</td>\n",
              "      <td>1986</td>\n",
              "      <td>61.3</td>\n",
              "      <td>1217</td>\n",
              "      <td>42.5</td>\n",
              "      <td>845</td>\n",
              "      <td>1.6</td>\n",
              "      <td>1349</td>\n",
              "      <td>32.3</td>\n",
              "      <td>642</td>\n",
              "      <td>1.9</td>\n",
              "      <td>1191</td>\n",
              "    </tr>\n",
              "  </tbody>\n",
              "</table>\n",
              "</div>"
            ],
            "text/plain": [
              "     Location  ...  Cat Population\n",
              "0     Alabama  ...            1252\n",
              "1     Arizona  ...            1438\n",
              "2    Arkansas  ...             810\n",
              "3  California  ...            7118\n",
              "4    Colorado  ...            1191\n",
              "\n",
              "[5 rows x 12 columns]"
            ]
          },
          "metadata": {
            "tags": []
          },
          "execution_count": 7
        }
      ]
    },
    {
      "cell_type": "code",
      "metadata": {
        "colab": {
          "base_uri": "https://localhost:8080/"
        },
        "id": "BV1lPm7JYHKO",
        "outputId": "1e8de51b-c03a-4dad-a4f1-7946b4fa694f"
      },
      "source": [
        "catsvdogs.info()"
      ],
      "execution_count": null,
      "outputs": [
        {
          "output_type": "stream",
          "text": [
            "<class 'pandas.core.frame.DataFrame'>\n",
            "RangeIndex: 49 entries, 0 to 48\n",
            "Data columns (total 12 columns):\n",
            " #   Column                              Non-Null Count  Dtype  \n",
            "---  ------                              --------------  -----  \n",
            " 0   Location                            49 non-null     object \n",
            " 1   Number of Households (in 1000)      49 non-null     int64  \n",
            " 2   Percentage of households with pets  49 non-null     float64\n",
            " 3   Number of Pet Households (in 1000)  49 non-null     int64  \n",
            " 4   Percentage of Dog Owners            49 non-null     float64\n",
            " 5   Dog Owning Households (1000s)       49 non-null     int64  \n",
            " 6   Mean Number of Dogs per household   49 non-null     float64\n",
            " 7   Dog Population (in 1000)            49 non-null     int64  \n",
            " 8   Percentage of Cat Owners            49 non-null     float64\n",
            " 9   Cat Owning Households               49 non-null     int64  \n",
            " 10  Mean Number of Cats                 49 non-null     float64\n",
            " 11  Cat Population                      49 non-null     int64  \n",
            "dtypes: float64(5), int64(6), object(1)\n",
            "memory usage: 4.7+ KB\n"
          ],
          "name": "stdout"
        }
      ]
    },
    {
      "cell_type": "code",
      "metadata": {
        "colab": {
          "base_uri": "https://localhost:8080/"
        },
        "id": "-9L2fKdmY1pD",
        "outputId": "1a1cce69-2cc1-480a-af15-91865bbe46f8"
      },
      "source": [
        "catsvdogs['Percentage of Cat Owners'].describe()"
      ],
      "execution_count": null,
      "outputs": [
        {
          "output_type": "execute_result",
          "data": {
            "text/plain": [
              "count    49.000000\n",
              "mean     31.642857\n",
              "std       5.683162\n",
              "min      11.600000\n",
              "25%      29.000000\n",
              "50%      31.300000\n",
              "75%      33.800000\n",
              "max      49.500000\n",
              "Name: Percentage of Cat Owners, dtype: float64"
            ]
          },
          "metadata": {
            "tags": []
          },
          "execution_count": 9
        }
      ]
    },
    {
      "cell_type": "code",
      "metadata": {
        "colab": {
          "base_uri": "https://localhost:8080/"
        },
        "id": "kkudVEYaZs_W",
        "outputId": "230bb101-4cf2-4953-f6b0-021eaef8cfc7"
      },
      "source": [
        "catsvdogs['Percentage of Dog Owners'].describe()"
      ],
      "execution_count": null,
      "outputs": [
        {
          "output_type": "execute_result",
          "data": {
            "text/plain": [
              "count    49.000000\n",
              "mean     36.973469\n",
              "std       6.671169\n",
              "min      13.100000\n",
              "25%      32.900000\n",
              "50%      36.600000\n",
              "75%      42.500000\n",
              "max      47.900000\n",
              "Name: Percentage of Dog Owners, dtype: float64"
            ]
          },
          "metadata": {
            "tags": []
          },
          "execution_count": 10
        }
      ]
    },
    {
      "cell_type": "code",
      "metadata": {
        "id": "9igpD3K_Z171"
      },
      "source": [
        "catsvdogs['Cat Population'].value_counts()"
      ],
      "execution_count": null,
      "outputs": []
    },
    {
      "cell_type": "code",
      "metadata": {
        "id": "01ztb5ICbVsF"
      },
      "source": [
        "catsvdogs['Dog Population (in 1000)'].value_counts()"
      ],
      "execution_count": null,
      "outputs": []
    },
    {
      "cell_type": "code",
      "metadata": {
        "id": "-HQVJHw5cj81"
      },
      "source": [
        "catsvdogs['Location'].value_counts()"
      ],
      "execution_count": null,
      "outputs": []
    },
    {
      "cell_type": "code",
      "metadata": {
        "id": "aczLOcYCc0pt"
      },
      "source": [
        "catsvdogs.isnull().sum()"
      ],
      "execution_count": null,
      "outputs": []
    },
    {
      "cell_type": "code",
      "metadata": {
        "colab": {
          "base_uri": "https://localhost:8080/",
          "height": 265
        },
        "id": "dixtOqsadILu",
        "outputId": "0ad6a938-0d94-425f-dab9-c8b71119b923"
      },
      "source": [
        "catsvdogs['Percentage of Cat Owners'].hist(bins = 48);"
      ],
      "execution_count": null,
      "outputs": [
        {
          "output_type": "display_data",
          "data": {
            "image/png": "[encoded data removed]",
            "text/plain": [
              "<Figure size 432x288 with 1 Axes>"
            ]
          },
          "metadata": {
            "tags": [],
            "needs_background": "light"
          }
        }
      ]
    },
    {
      "cell_type": "code",
      "metadata": {
        "colab": {
          "base_uri": "https://localhost:8080/",
          "height": 265
        },
        "id": "2UUO4qhwibPf",
        "outputId": "cfd26dc9-f940-4e65-a240-5cff9928022c"
      },
      "source": [
        "catsvdogs['Percentage of Dog Owners'].hist(bins = 48);"
      ],
      "execution_count": null,
      "outputs": [
        {
          "output_type": "display_data",
          "data": {
            "image/png": "[encoded data removed]",
            "text/plain": [
              "<Figure size 432x288 with 1 Axes>"
            ]
          },
          "metadata": {
            "tags": [],
            "needs_background": "light"
          }
        }
      ]
    },
    {
      "cell_type": "code",
      "metadata": {
        "colab": {
          "base_uri": "https://localhost:8080/",
          "height": 289
        },
        "id": "Zzgtd5gdjbEY",
        "outputId": "64139a31-9aa5-45f9-ef58-815960a5dcf6"
      },
      "source": [
        "fig, ax = plt.subplots()\n",
        "ax.hist(catsvdogs['Percentage of Cat Owners'], bins = 48)\n",
        "ax.hist(catsvdogs['Percentage of Dog Owners'], bins = 48)\n",
        "ax.set_title(\"Percentage of Dog and Cat Owners in the U.S.A.\", fontsize=16)\n",
        "ax.set_ylabel(\"Percentage\", fontsize=14);\n",
        "ax.set_xticks([])"
      ],
      "execution_count": null,
      "outputs": [
        {
          "output_type": "execute_result",
          "data": {
            "text/plain": [
              "[]"
            ]
          },
          "metadata": {
            "tags": []
          },
          "execution_count": 17
        },
        {
          "output_type": "display_data",
          "data": {
            "image/png": "[encoded data removed]",
            "text/plain": [
              "<Figure size 432x288 with 1 Axes>"
            ]
          },
          "metadata": {
            "tags": [],
            "needs_background": "light"
          }
        }
      ]
    },
    {
      "cell_type": "code",
      "metadata": {
        "id": "WHB-YIo09Ta6"
      },
      "source": [
        "Bothgrouped = catsvdogs[['Percentage of Cat Owners', 'Percentage of Dog Owners']]\n",
        "Bothgrouped"
      ],
      "execution_count": null,
      "outputs": []
    },
    {
      "cell_type": "code",
      "metadata": {
        "id": "hYm1A5VEy5_R"
      },
      "source": [
        "Ownerofboth = catsvdogs[['Percentage of Dog Owners', 'Percentage of Cat Owners', 'Location']]\n",
        "Ownerofboth"
      ],
      "execution_count": null,
      "outputs": []
    },
    {
      "cell_type": "code",
      "metadata": {
        "id": "62RJrMuXI7xo"
      },
      "source": [
        "cats = catsvdogs[['Percentage of Cat Owners', 'Location']]\n",
        "cats"
      ],
      "execution_count": null,
      "outputs": []
    },
    {
      "cell_type": "code",
      "metadata": {
        "id": "zkONo1SAK75p"
      },
      "source": [
        "dogs = catsvdogs[['Percentage of Dog Owners', 'Location']]\n",
        "dogs"
      ],
      "execution_count": null,
      "outputs": []
    },
    {
      "cell_type": "code",
      "metadata": {
        "colab": {
          "base_uri": "https://localhost:8080/",
          "height": 411
        },
        "id": "mM0q65Dc7y8S",
        "outputId": "9b896b1e-c352-4b91-8a55-b5ec96bf7a6a"
      },
      "source": [
        "sns.set(style=\"darkgrid\")\n",
        "fig, axs = plt.subplots(figsize=(10,6))\n",
        "sns.histplot(data=cats, x=\"Percentage of Cat Owners\", discrete=True, bins=50, color=\"b\", label='Cats'),\n",
        "sns.histplot(data=dogs, x=\"Percentage of Dog Owners\", discrete=True, bins=50, color=\"orange\", label='Dogs'),\n",
        "axs.set_title(\"Percentage of Dog and Cat Owners in the U.S.A.\", fontsize=14),\n",
        "plt.legend(loc='upper right'),\n",
        "axs.set(xlabel='Percentage of Animal Owners')\n",
        "axs.set_xlim(10,51);"
      ],
      "execution_count": null,
      "outputs": [
        {
          "output_type": "display_data",
          "data": {
            "image/png": "[encoded data removed]",
            "text/plain": [
              "<Figure size 720x432 with 1 Axes>"
            ]
          },
          "metadata": {
            "tags": []
          }
        }
      ]
    },
    {
      "cell_type": "code",
      "metadata": {
        "id": "LNN7BU0mifx2"
      },
      "source": [
        "boxdf = catsvdogs.filter(['Mean Number of Dogs per household', 'Mean Number of Cats'])\n",
        "boxdf"
      ],
      "execution_count": null,
      "outputs": []
    },
    {
      "cell_type": "code",
      "metadata": {
        "id": "7NNhIV0gh7mW"
      },
      "source": [
        "pd.melt(boxdf)"
      ],
      "execution_count": null,
      "outputs": []
    },
    {
      "cell_type": "code",
      "metadata": {
        "colab": {
          "base_uri": "https://localhost:8080/",
          "height": 302
        },
        "id": "z8OOY6oEgqIh",
        "outputId": "fa8d1285-4285-4b8f-83ff-5ce95b470e5c"
      },
      "source": [
        "sns.boxplot(x=\"variable\", y=\"value\", data=pd.melt(boxdf))\n"
      ],
      "execution_count": null,
      "outputs": [
        {
          "output_type": "execute_result",
          "data": {
            "text/plain": [
              "<matplotlib.axes._subplots.AxesSubplot at 0x7fb5b36b2b50>"
            ]
          },
          "metadata": {
            "tags": []
          },
          "execution_count": 248
        },
        {
          "output_type": "display_data",
          "data": {
            "image/png": "[encoded data removed]",
            "text/plain": [
              "<Figure size 432x288 with 1 Axes>"
            ]
          },
          "metadata": {
            "tags": []
          }
        }
      ]
    },
    {
      "cell_type": "code",
      "metadata": {
        "colab": {
          "base_uri": "https://localhost:8080/",
          "height": 431
        },
        "id": "M0UrY6Ehkg65",
        "outputId": "ec1901e1-ad41-4b4c-cf1b-10041df516c9"
      },
      "source": [
        "fig, axis=plt.subplots(1,1, figsize=(10,7))\n",
        "boxplot = axis.boxplot([catsvdogs['Mean Number of Cats'], catsvdogs['Mean Number of Dogs per household']],\n",
        "                       notch=True,\n",
        "                       labels=['Cats', 'Dogs'],\n",
        "                       widths=0.5,\n",
        "                       boxprops=dict(linestyle='--', linewidth=2, color='Black', facecolor=\"orange\", alpha = .4),\n",
        "                       patch_artist=True,\n",
        "                       medianprops = dict(linestyle='-', linewidth=2, color='Yellow'),)\n",
        "dogboxplot = boxplot[\"boxes\"][1]\n",
        "dogboxplot.set_facecolor(\"Blue\")"
      ],
      "execution_count": null,
      "outputs": [
        {
          "output_type": "display_data",
          "data": {
            "image/png": "[encoded data removed]",
            "text/plain": [
              "<Figure size 720x504 with 1 Axes>"
            ]
          },
          "metadata": {
            "tags": []
          }
        }
      ]
    },
    {
      "cell_type": "markdown",
      "metadata": {
        "id": "3jJhf9xXg8YZ"
      },
      "source": [
        "CODE GRAVEYARD\n"
      ]
    },
    {
      "cell_type": "code",
      "metadata": {
        "colab": {
          "base_uri": "https://localhost:8080/",
          "height": 279
        },
        "id": "OnZimTGdkff1",
        "outputId": "22a42be2-9c99-442a-b7d9-11f8f778a190"
      },
      "source": [
        "#sns.histplot(catsvdogs['Percentage of Dog Owners'], bins = 48);"
      ],
      "execution_count": null,
      "outputs": [
        {
          "output_type": "display_data",
          "data": {
            "image/png": "[encoded data removed]",
            "text/plain": [
              "<Figure size 432x288 with 1 Axes>"
            ]
          },
          "metadata": {
            "tags": [],
            "needs_background": "light"
          }
        }
      ]
    },
    {
      "cell_type": "code",
      "metadata": {
        "colab": {
          "base_uri": "https://localhost:8080/",
          "height": 255
        },
        "id": "qSUoGT6vALPA",
        "outputId": "ccbfb5ac-be4f-4118-ab9b-e1667a5545fd"
      },
      "source": [
        "\n",
        "#sns.boxplot(y=catsvdogs[\"Mean Number of Cats\"]),\n",
        "\n",
        "#sns.boxplot(y=catsvdogs[\"Mean Number of Dogs per household\"]);"
      ],
      "execution_count": null,
      "outputs": [
        {
          "output_type": "display_data",
          "data": {
            "image/png": "[encoded data removed]",
            "text/plain": [
              "<Figure size 432x288 with 1 Axes>"
            ]
          },
          "metadata": {
            "tags": []
          }
        }
      ]
    }
  ]
}